{
  "cells": [
    {
      "cell_type": "code",
      "execution_count": null,
      "id": "e48e6613",
      "metadata": {
        "id": "e48e6613"
      },
      "outputs": [],
      "source": [
        "!python --version"
      ]
    },
    {
      "cell_type": "code",
      "execution_count": null,
      "id": "5e97c235",
      "metadata": {
        "id": "5e97c235"
      },
      "outputs": [],
      "source": [
        "import matplotlib\n",
        "print(matplotlib._get_version())"
      ]
    },
    {
      "cell_type": "code",
      "execution_count": null,
      "id": "751cce78",
      "metadata": {
        "id": "751cce78"
      },
      "outputs": [],
      "source": [
        "matplotlib.parse_version??"
      ]
    },
    {
      "cell_type": "code",
      "execution_count": null,
      "id": "fde45086",
      "metadata": {
        "id": "fde45086"
      },
      "outputs": [],
      "source": [
        "import numpy as np\n",
        "print(np.version.full_version)"
      ]
    },
    {
      "cell_type": "code",
      "execution_count": null,
      "id": "52beb16a",
      "metadata": {
        "id": "52beb16a"
      },
      "outputs": [],
      "source": [
        "import seaborn as sns\n",
        "print(sns.__version__)"
      ]
    },
    {
      "cell_type": "code",
      "execution_count": null,
      "id": "be5bdcc5",
      "metadata": {
        "id": "be5bdcc5"
      },
      "outputs": [],
      "source": [
        "import pandas as pd\n",
        "print(pd.show_versions() )"
      ]
    },
    {
      "cell_type": "code",
      "execution_count": null,
      "id": "97c8b43d",
      "metadata": {
        "id": "97c8b43d"
      },
      "outputs": [],
      "source": [
        "import sklearn\n",
        "print(sklearn.__version__)"
      ]
    },
    {
      "cell_type": "code",
      "execution_count": null,
      "id": "f569c1eb",
      "metadata": {
        "id": "f569c1eb"
      },
      "outputs": [],
      "source": [
        "import tensorflow as tf\n",
        "\n",
        "print(tf.__version__)"
      ]
    },
    {
      "cell_type": "code",
      "execution_count": null,
      "id": "63d1ef72",
      "metadata": {
        "id": "63d1ef72"
      },
      "outputs": [],
      "source": []
    }
  ],
  "metadata": {
    "kernelspec": {
      "display_name": "Python 3 (ipykernel)",
      "language": "python",
      "name": "python3"
    },
    "language_info": {
      "codemirror_mode": {
        "name": "ipython",
        "version": 3
      },
      "file_extension": ".py",
      "mimetype": "text/x-python",
      "name": "python",
      "nbconvert_exporter": "python",
      "pygments_lexer": "ipython3",
      "version": "3.8.8"
    },
    "colab": {
      "provenance": []
    }
  },
  "nbformat": 4,
  "nbformat_minor": 5
}