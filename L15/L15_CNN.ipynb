{
 "cells": [
  {
   "cell_type": "markdown",
   "id": "b6557195",
   "metadata": {},
   "source": [
    "# CNN on MNIST digits"
   ]
  },
  {
   "cell_type": "code",
   "execution_count": 15,
   "id": "e4d1f461",
   "metadata": {},
   "outputs": [
    {
     "name": "stdout",
     "output_type": "stream",
     "text": [
      "Model: \"sequential_10\"\n",
      "_________________________________________________________________\n",
      " Layer (type)                Output Shape              Param #   \n",
      "=================================================================\n",
      " conv2d_16 (Conv2D)          (None, 26, 26, 3)         30        \n",
      "                                                                 \n",
      " max_pooling2d_16 (MaxPoolin  (None, 13, 13, 3)        0         \n",
      " g2D)                                                            \n",
      "                                                                 \n",
      " conv2d_17 (Conv2D)          (None, 11, 11, 3)         84        \n",
      "                                                                 \n",
      " max_pooling2d_17 (MaxPoolin  (None, 5, 5, 3)          0         \n",
      " g2D)                                                            \n",
      "                                                                 \n",
      " flatten_7 (Flatten)         (None, 75)                0         \n",
      "                                                                 \n",
      " dense_14 (Dense)            (None, 128)               9728      \n",
      "                                                                 \n",
      " dense_15 (Dense)            (None, 10)                1290      \n",
      "                                                                 \n",
      "=================================================================\n",
      "Total params: 11,132\n",
      "Trainable params: 11,132\n",
      "Non-trainable params: 0\n",
      "_________________________________________________________________\n"
     ]
    }
   ],
   "source": [
    "import tensorflow as tf\n",
    "from tensorflow import keras\n",
    "from tensorflow.keras.datasets import mnist\n",
    "from tensorflow.keras.models import Sequential\n",
    "from tensorflow.keras.layers import Conv2D, MaxPooling2D, Flatten, Dense\n",
    "from tensorflow.keras.utils import to_categorical\n",
    "import matplotlib.pyplot as plt\n",
    "\n",
    "(x_train, y_train), (x_test, y_test) = mnist.load_data()\n",
    "\n",
    "# data is shaped as (batch_size, rows, cols, channels)\n",
    "x_train = x_train.reshape(60000, 28, 28, 1)\n",
    "x_test = x_test.reshape(10000, 28, 28, 1)\n",
    "\n",
    "\n",
    "x_train = x_train.astype('float32') / 255\n",
    "x_test = x_test.astype('float32') / 255\n",
    "\n",
    "\n",
    "y_train = to_categorical(y_train, 10)\n",
    "y_test = to_categorical(y_test, 10)\n",
    "\n",
    "# CNN model\n",
    "model = Sequential()\n",
    "model.add(Conv2D(filters=3, kernel_size=(3, 3),strides=(1, 1), padding='valid', activation='relu', input_shape=(28, 28, 1)))\n",
    "model.add(MaxPooling2D(pool_size=(2, 2),  strides=(2,2)))\n",
    "model.add(Conv2D(filters=3, kernel_size=(3, 3),strides=(1, 1), padding='valid', activation='relu'))\n",
    "model.add(MaxPooling2D(pool_size=(2, 2),  strides=(2,2)))\n",
    "model.add(Flatten())\n",
    "model.add(Dense(128, activation='relu'))\n",
    "model.add(Dense(10, activation='softmax'))\n",
    "\n",
    "# Compile model\n",
    "model.compile(optimizer='adam',\n",
    "              loss='categorical_crossentropy',\n",
    "              metrics=['accuracy'])\n",
    "\n",
    "# Print model summary\n",
    "model.summary()"
   ]
  },
  {
   "cell_type": "code",
   "execution_count": 12,
   "id": "7ea7f588",
   "metadata": {},
   "outputs": [
    {
     "name": "stdout",
     "output_type": "stream",
     "text": [
      "Epoch 1/10\n",
      "657/657 [==============================] - 6s 9ms/step - loss: 0.5842 - accuracy: 0.8272 - val_loss: 0.2539 - val_accuracy: 0.9228\n",
      "Epoch 2/10\n",
      "657/657 [==============================] - 5s 8ms/step - loss: 0.2142 - accuracy: 0.9342 - val_loss: 0.1763 - val_accuracy: 0.9472\n",
      "Epoch 3/10\n",
      "657/657 [==============================] - 6s 8ms/step - loss: 0.1528 - accuracy: 0.9530 - val_loss: 0.1468 - val_accuracy: 0.9555\n",
      "Epoch 4/10\n",
      "657/657 [==============================] - 5s 8ms/step - loss: 0.1213 - accuracy: 0.9625 - val_loss: 0.1302 - val_accuracy: 0.9602\n",
      "Epoch 5/10\n",
      "657/657 [==============================] - 5s 8ms/step - loss: 0.1039 - accuracy: 0.9667 - val_loss: 0.1167 - val_accuracy: 0.9640\n",
      "Epoch 6/10\n",
      "657/657 [==============================] - 5s 8ms/step - loss: 0.0909 - accuracy: 0.9717 - val_loss: 0.0978 - val_accuracy: 0.9709\n",
      "Epoch 7/10\n",
      "657/657 [==============================] - 5s 8ms/step - loss: 0.0800 - accuracy: 0.9750 - val_loss: 0.1008 - val_accuracy: 0.9696\n",
      "Epoch 8/10\n",
      "657/657 [==============================] - 5s 8ms/step - loss: 0.0751 - accuracy: 0.9765 - val_loss: 0.0934 - val_accuracy: 0.9716\n",
      "Epoch 9/10\n",
      "657/657 [==============================] - 5s 8ms/step - loss: 0.0662 - accuracy: 0.9788 - val_loss: 0.0885 - val_accuracy: 0.9739\n",
      "Epoch 10/10\n",
      "657/657 [==============================] - 6s 8ms/step - loss: 0.0624 - accuracy: 0.9797 - val_loss: 0.0866 - val_accuracy: 0.9740\n"
     ]
    },
    {
     "data": {
      "image/png": "[encoded data removed]",
      "text/plain": [
       "<Figure size 432x288 with 1 Axes>"
      ]
     },
     "metadata": {
      "needs_background": "light"
     },
     "output_type": "display_data"
    }
   ],
   "source": [
    "# Train model\n",
    "history = model.fit(x_train, y_train, epochs=10, batch_size=64, validation_split=0.3)\n",
    "\n",
    "plt.plot(history.history['accuracy'])\n",
    "plt.plot(history.history['val_accuracy'])\n",
    "plt.title('Model Accuracy')\n",
    "plt.ylabel('Accuracy')\n",
    "plt.xlabel('Epoch')\n",
    "plt.legend(['Train', 'Validation'], loc='upper left')\n",
    "plt.show()"
   ]
  }
 ],
 "metadata": {
  "kernelspec": {
   "display_name": "Python 3 (ipykernel)",
   "language": "python",
   "name": "python3"
  },
  "language_info": {
   "codemirror_mode": {
    "name": "ipython",
    "version": 3
   },
   "file_extension": ".py",
   "mimetype": "text/x-python",
   "name": "python",
   "nbconvert_exporter": "python",
   "pygments_lexer": "ipython3",
   "version": "3.8.8"
  }
 },
 "nbformat": 4,
 "nbformat_minor": 5
}
